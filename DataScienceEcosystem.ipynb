{
 "cells": [
  {
   "cell_type": "markdown",
   "id": "c565559a",
   "metadata": {},
   "source": [
    "# Data Science Tools and Ecosystem"
   ]
  },
  {
   "cell_type": "markdown",
   "id": "2fda616c",
   "metadata": {},
   "source": [
    "In this notebook, Data Science Tools and Ecosystem are summarized"
   ]
  },
  {
   "cell_type": "markdown",
   "id": "7aa50d15",
   "metadata": {},
   "source": [
    "**Objectives:**\n",
    "* List Popular languages for Data Science\n",
    "* List commonly used libraries for Data Science\n",
    "* Table Data Science Tools"
   ]
  },
  {
   "cell_type": "markdown",
   "id": "0a4788a5",
   "metadata": {},
   "source": [
    "Some of the popular languages that Data Scientists use are:\n",
    "1. Pythone\n",
    "2. R\n",
    "3. SQL\n",
    "4. Scala\n",
    "5. Java\n",
    "6. C++\n",
    "7. Julia"
   ]
  },
  {
   "cell_type": "markdown",
   "id": "a5615f6b",
   "metadata": {},
   "source": [
    "Some of the commonly used libraries uesd by Data Scientists include:\n",
    "* Python libraries\n",
    "    1. Scientifics Computing: Pandas, Numpy\n",
    "    2. Visualization: Matplotlib, Seaborn\n",
    "    3. Machine Learning and Deep Learning: Scikit-learn, Keras\n",
    "    4. TensorFlow\n",
    "    5. PyTorch"
   ]
  },
  {
   "cell_type": "markdown",
   "id": "0a3b71f8",
   "metadata": {},
   "source": [
    "| Data Science Tools |\n",
    "|---|\n",
    "| Anaconda Navigator |\n",
    "| JupiterLab |\n",
    "| VS Code |\n"
   ]
  },
  {
   "cell_type": "markdown",
   "id": "52500fc2",
   "metadata": {},
   "source": [
    "### Below are a few examples of evaluating arithmetric in Python"
   ]
  },
  {
   "cell_type": "code",
   "execution_count": 5,
   "id": "c49d5472",
   "metadata": {},
   "outputs": [
    {
     "data": {
      "text/plain": [
       "17"
      ]
     },
     "execution_count": 5,
     "metadata": {},
     "output_type": "execute_result"
    }
   ],
   "source": [
    "# This a simple arithmetric expression to multiply then add integers\n",
    "\n",
    "(3*4)+5"
   ]
  },
  {
   "cell_type": "code",
   "execution_count": 6,
   "id": "12afb7fb",
   "metadata": {},
   "outputs": [
    {
     "data": {
      "text/plain": [
       "3.3333333333333335"
      ]
     },
     "execution_count": 6,
     "metadata": {},
     "output_type": "execute_result"
    }
   ],
   "source": [
    "# This will convert 200 minutes to hours by diving by 60\n",
    "(200)/60"
   ]
  },
  {
   "cell_type": "markdown",
   "id": "ee366ba4",
   "metadata": {},
   "source": [
    "## Author\n",
    "KnotSan"
   ]
  },
  {
   "cell_type": "code",
   "execution_count": null,
   "id": "7f4fe382",
   "metadata": {},
   "outputs": [],
   "source": []
  }
 ],
 "metadata": {
  "kernelspec": {
   "display_name": "Python 3 (ipykernel)",
   "language": "python",
   "name": "python3"
  },
  "language_info": {
   "codemirror_mode": {
    "name": "ipython",
    "version": 3
   },
   "file_extension": ".py",
   "mimetype": "text/x-python",
   "name": "python",
   "nbconvert_exporter": "python",
   "pygments_lexer": "ipython3",
   "version": "3.10.9"
  }
 },
 "nbformat": 4,
 "nbformat_minor": 5
}
